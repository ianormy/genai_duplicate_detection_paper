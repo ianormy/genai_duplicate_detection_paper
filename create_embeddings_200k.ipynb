{
 "cells": [
  {
   "cell_type": "code",
   "execution_count": null,
   "id": "146893a8-430f-47cb-b744-681b97856071",
   "metadata": {},
   "outputs": [],
   "source": [
    "import pandas as pd\n",
    "import matplotlib.pyplot as plt\n",
    "import numpy as np\n",
    "from typing import Tuple\n",
    "from sentence_transformers import SentenceTransformer\n",
    "import tqdm\n",
    "import os\n",
    "from math import ceil"
   ]
  },
  {
   "cell_type": "markdown",
   "id": "5f4fba65-97ab-4584-819d-4b153444ab82",
   "metadata": {},
   "source": [
    "## Install Local Sentence Transformer\n",
    "You can download the model files from hugging face and store them locally. Then you can load the model locally"
   ]
  },
  {
   "cell_type": "code",
   "execution_count": null,
   "id": "832bd527-5569-4ddf-8792-f30e82350363",
   "metadata": {},
   "outputs": [],
   "source": [
    "model = SentenceTransformer('C:/sentence_transformers/all-mpnet-base-v2')"
   ]
  },
  {
   "cell_type": "code",
   "execution_count": null,
   "id": "8c586011-daaf-4586-b4ae-2bffbdcd4315",
   "metadata": {},
   "outputs": [],
   "source": [
    "def calculate_match_string(df_in: pd.DataFrame, recnum: int) -> str:\n",
    "    \"\"\"calculate the match string for the given row\n",
    "    \n",
    "    :param df_in: data frame\n",
    "    :param recnum: record number\n",
    "    :return: match string that will be used for creating an embedding vector index\n",
    "    \"\"\"\n",
    "    title = df_in['title'].iloc[recnum]\n",
    "    length = df_in['length'].iloc[recnum]\n",
    "    artist = df_in['artist'].iloc[recnum]\n",
    "    album = df_in['album'].iloc[recnum]\n",
    "    year = df_in['year'].iloc[recnum]\n",
    "    language = df_in['language'].iloc[recnum]\n",
    "    match_string = f'{title} {length} {artist} {album} {year} {language}'\n",
    "    return match_string"
   ]
  },
  {
   "cell_type": "code",
   "execution_count": null,
   "id": "6042d8b1-8578-4e90-a3af-afcc979c1bdb",
   "metadata": {},
   "outputs": [],
   "source": [
    "df = pd.read_csv(os.path.join('C:/Data/Musicbrainz', 'musicbrainz-200-A01.csv'))\n",
    "df"
   ]
  },
  {
   "cell_type": "code",
   "execution_count": null,
   "id": "458d46d9-8873-4114-bee2-92a110a9d1eb",
   "metadata": {},
   "outputs": [],
   "source": [
    "df = df.astype({\n",
    "    'TID': 'Int64',\n",
    "    'CID': 'Int64',\n",
    "    'CTID': 'Int32',\n",
    "    'artist': 'str', \n",
    "    'album': 'str', \n",
    "    'year': 'str', \n",
    "    'id': 'str', \n",
    "    'length': 'str', \n",
    "    'title': 'str', \n",
    "    'language': 'str',\n",
    "    'number': 'str'})"
   ]
  },
  {
   "cell_type": "code",
   "execution_count": null,
   "id": "58be2f70-60ca-4035-8e14-25932a76218a",
   "metadata": {},
   "outputs": [],
   "source": [
    "nan_cols = ['artist', 'album', 'year', 'id', 'language', 'title', 'length']\n",
    "for col in nan_cols:\n",
    "    df[col]  = df[col].apply(lambda x : '' if x == 'nan' else x)\n",
    "df.head()"
   ]
  },
  {
   "cell_type": "code",
   "execution_count": null,
   "id": "6a8e88bd-b40d-48c3-a3e9-002f09d3ec1c",
   "metadata": {},
   "outputs": [],
   "source": [
    "df['embedding_vector'] = ' '"
   ]
  },
  {
   "cell_type": "code",
   "execution_count": null,
   "id": "ff6be3a6-d20d-4e22-a4de-2e06f4ea0ea1",
   "metadata": {},
   "outputs": [],
   "source": [
    "chunk_size = 5000 # 5K\n",
    "total_recs = len(df)\n",
    "progress_bar = tqdm.tqdm(range(total_recs),\n",
    "                         file=open(os.devnull, 'w'),\n",
    "                         desc=\"Embedding progress\")\n",
    "last_progress = 0\n",
    "for i in range(len(df)):\n",
    "    match_str = calculate_match_string(df, i)\n",
    "    embedding = model.encode(match_str)\n",
    "    df.loc[i, 'embedding_vector'] = str(embedding.tolist())\n",
    "    progress_bar.update()\n",
    "    if (i % chunk_size) == 0:\n",
    "        print(str(progress_bar))\n",
    "print(str(progress_bar))"
   ]
  },
  {
   "cell_type": "code",
   "execution_count": null,
   "id": "d21237c4-6d92-4a8a-aa50-d3b13e7dc8c5",
   "metadata": {},
   "outputs": [],
   "source": [
    "df.to_csv(os.path.join('C:/Data/Musicbrainz', 'musicbrainz_200k_with_embeddings.csv'))"
   ]
  }
 ],
 "metadata": {
  "kernelspec": {
   "display_name": "Python 3 (ipykernel)",
   "language": "python",
   "name": "python3"
  },
  "language_info": {
   "codemirror_mode": {
    "name": "ipython",
    "version": 3
   },
   "file_extension": ".py",
   "mimetype": "text/x-python",
   "name": "python",
   "nbconvert_exporter": "python",
   "pygments_lexer": "ipython3",
   "version": "3.10.14"
  }
 },
 "nbformat": 4,
 "nbformat_minor": 5
}
