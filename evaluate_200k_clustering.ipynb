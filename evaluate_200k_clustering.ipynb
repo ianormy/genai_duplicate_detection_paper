{
 "cells": [
  {
   "cell_type": "markdown",
   "id": "96e5e440-ba02-449b-9591-ff17fff14334",
   "metadata": {},
   "source": [
    "# Evaluate Clustering\n",
    "Evaluate how well our clustering did with the given epsilon value. This will read the experimental results file."
   ]
  },
  {
   "cell_type": "code",
   "execution_count": null,
   "id": "146893a8-430f-47cb-b744-681b97856071",
   "metadata": {},
   "outputs": [],
   "source": [
    "import pandas as pd\n",
    "import matplotlib.pyplot as plt\n",
    "import numpy as np\n",
    "from typing import Tuple\n",
    "import os\n",
    "from math import ceil\n",
    "import seaborn as sns"
   ]
  },
  {
   "cell_type": "code",
   "execution_count": null,
   "id": "c5263243-500d-419e-bc50-af447b6c3121",
   "metadata": {},
   "outputs": [],
   "source": [
    "data_folder = 'C:/Data/Musicbrainz'\n",
    "results_folder = 'C:/Logs/musicbrainz'\n",
    "results_filename = 'match_groups_200k_epsilon_0_245.csv'"
   ]
  },
  {
   "cell_type": "code",
   "execution_count": null,
   "id": "6042d8b1-8578-4e90-a3af-afcc979c1bdb",
   "metadata": {},
   "outputs": [],
   "source": [
    "df = pd.read_csv(os.path.join(data_folder, 'musicbrainz-200-A01.csv'))\n",
    "df"
   ]
  },
  {
   "cell_type": "markdown",
   "id": "ebcc171b-74fd-49a6-b052-d658ac0a589f",
   "metadata": {},
   "source": [
    "Clean up the data by removing all the empy entires."
   ]
  },
  {
   "cell_type": "code",
   "execution_count": null,
   "id": "458d46d9-8873-4114-bee2-92a110a9d1eb",
   "metadata": {},
   "outputs": [],
   "source": [
    "df = df.astype({\n",
    "    'TID': 'Int64',\n",
    "    'CID': 'Int64',\n",
    "    'CTID': 'Int32'})"
   ]
  },
  {
   "cell_type": "code",
   "execution_count": null,
   "id": "58be2f70-60ca-4035-8e14-25932a76218a",
   "metadata": {},
   "outputs": [],
   "source": [
    "nan_cols = ['artist', 'album', 'year', 'id', 'language', 'title', 'length', 'number']\n",
    "for col in nan_cols:\n",
    "    df = df.astype({col: 'str'})\n",
    "    df[col]  = df[col].apply(lambda x : '' if x == 'nan' else x)\n",
    "df.head()"
   ]
  },
  {
   "cell_type": "markdown",
   "id": "7c93e90b-1a2c-4032-9128-c63560e13cdb",
   "metadata": {},
   "source": [
    "## Calculate Ground Truth Stats\n",
    "Before we continue let's calculate some stats that we'll need later on."
   ]
  },
  {
   "cell_type": "code",
   "execution_count": null,
   "id": "e07452a1-a926-49f6-9ec8-20344c5b53e0",
   "metadata": {},
   "outputs": [],
   "source": [
    "df_cluster_group = df.groupby(['CID'])\n",
    "cluster_df = df_cluster_group.agg({'CID': 'max', 'TID': 'count'}).reset_index(drop=True)\n",
    "cluster_df = cluster_df.rename(columns={'CID': 'cluster_id', 'TID': 'num_ids'})\n",
    "cluster_df"
   ]
  },
  {
   "cell_type": "markdown",
   "id": "11d43df5-3960-45e8-8efc-28cd929f851c",
   "metadata": {},
   "source": [
    "Calculate the total possible number of **TID**s that can be in a cluster group. These are those cluster groups that have 2 or more **TID**s in."
   ]
  },
  {
   "cell_type": "code",
   "execution_count": null,
   "id": "9cc1119b-fc08-48ef-8f74-351775f26d2a",
   "metadata": {},
   "outputs": [],
   "source": [
    "tot_dups_df = cluster_df[cluster_df['num_ids'] > 1].agg({'num_ids': 'sum'}).reset_index()\n",
    "tot_possible_dups = tot_dups_df.iloc[0,1]\n",
    "print(f'total possible duplicates: {tot_possible_dups:,}')"
   ]
  },
  {
   "cell_type": "markdown",
   "id": "e3436757-63a2-462a-89e0-c16806a8e067",
   "metadata": {},
   "source": [
    "Calculate the total possible number of **TID**s that can't be in a cluster group, i.e. those cluster IDs that only have one **TID**."
   ]
  },
  {
   "cell_type": "code",
   "execution_count": null,
   "id": "4d00fb4b-53ae-4b60-966d-16bb4ec76ca4",
   "metadata": {},
   "outputs": [],
   "source": [
    "tot_non_dups_df = cluster_df[cluster_df['num_ids'] == 1].agg({'num_ids': 'sum'}).reset_index()\n",
    "tot_possible_non_dups = tot_non_dups_df.iloc[0,1]\n",
    "print(f'total possible non-duplicates: {tot_possible_non_dups:,}')"
   ]
  },
  {
   "cell_type": "markdown",
   "id": "9f01856b-ee29-41fe-b32c-7bb2f92a2a37",
   "metadata": {},
   "source": [
    "## Read Results and join with the original records\n",
    "First make **TID** the key on the original records, so that we can join the results with that. Then read the results and do the join."
   ]
  },
  {
   "cell_type": "code",
   "execution_count": null,
   "id": "3aad7d8b-0b6e-408f-b6bf-47b9ef47232c",
   "metadata": {},
   "outputs": [],
   "source": [
    "df = df.set_index('TID')\n",
    "df"
   ]
  },
  {
   "cell_type": "code",
   "execution_count": null,
   "id": "ac0a34df-4c7c-4e4d-b3c8-72fe8a690b85",
   "metadata": {},
   "outputs": [],
   "source": [
    "df_match_groups = pd.read_csv(os.path.join(results_folder, results_filename))\n",
    "df_match_groups.head()"
   ]
  },
  {
   "cell_type": "code",
   "execution_count": null,
   "id": "6825e6bf-bfcf-4374-b757-99a9c2956623",
   "metadata": {},
   "outputs": [],
   "source": [
    "df_match_groups_full = df_match_groups.join(df, on='TID', how='left', lsuffix='_l', rsuffix='_r')\n",
    "df_match_groups_full = df_match_groups_full[['TID', 'CTID', 'CID', 'match_group_id', 'distance']]\n",
    "df_match_groups_full"
   ]
  },
  {
   "cell_type": "code",
   "execution_count": null,
   "id": "3ea7601b-6af5-4216-8fb3-c3de69c1dbba",
   "metadata": {},
   "outputs": [],
   "source": [
    "df_vals_full = df_match_groups_full.groupby('match_group_id').agg({'CID': 'unique', 'TID': 'count'}).reset_index()\n",
    "df_vals_full"
   ]
  },
  {
   "cell_type": "code",
   "execution_count": null,
   "id": "4bcb99bd-5fa6-43ff-b567-86ac95dae836",
   "metadata": {},
   "outputs": [],
   "source": [
    "df_vals_full['cluster_ids'] = df_vals_full['CID'].apply(lambda x: '[' + ','.join([str(s) for s in x]) + ']')"
   ]
  },
  {
   "cell_type": "code",
   "execution_count": null,
   "id": "5b4de0ce-a8a6-4f85-9c84-c786345975e9",
   "metadata": {},
   "outputs": [],
   "source": [
    "df_vals_full['num_cluster_ids'] = df_vals_full['CID'].apply(lambda x: len(x))\n",
    "df_vals_full = df_vals_full.rename(columns={'TID': 'num_ids_in_match_group'})\n",
    "df_vals_full = df_vals_full[['match_group_id', 'num_ids_in_match_group', \n",
    "                             'num_cluster_ids', 'cluster_ids']].sort_values(['num_cluster_ids'], ascending=False)\n",
    "df_vals_full"
   ]
  },
  {
   "cell_type": "markdown",
   "id": "2a5799e9-2601-4df8-88a4-3cf721f0a6f9",
   "metadata": {},
   "source": [
    "## Single Cluster IDs\n",
    "Let's identify the single clusters that we've found and see how well we've done matching those."
   ]
  },
  {
   "cell_type": "code",
   "execution_count": null,
   "id": "9ee3d8a4-4986-489f-9c5e-551677f6727b",
   "metadata": {},
   "outputs": [],
   "source": [
    "df_vals_single_cluster = df_vals_full[df_vals_full['num_cluster_ids'] == 1].sort_values(['num_ids_in_match_group'], ascending=False)\n",
    "df_vals_single_cluster"
   ]
  },
  {
   "cell_type": "code",
   "execution_count": null,
   "id": "668b73d1-6690-41d3-864c-74c03b6b504d",
   "metadata": {},
   "outputs": [],
   "source": [
    "df_vals_single_cluster['cluster_id'] = df_vals_single_cluster['cluster_ids'].apply(lambda x: int(str(x)[1:-1]))\n",
    "df_vals_single_cluster = df_vals_single_cluster.drop(['cluster_ids', 'num_cluster_ids'], axis=1)\n",
    "df_vals_single_cluster"
   ]
  },
  {
   "cell_type": "code",
   "execution_count": null,
   "id": "9fa74ebd-fe4d-45d8-8cb5-4f7bef0e61f2",
   "metadata": {},
   "outputs": [],
   "source": [
    "df_compare = df_vals_single_cluster.set_index('cluster_id').join(cluster_df.set_index('cluster_id'), on='cluster_id')\n",
    "df_compare"
   ]
  },
  {
   "cell_type": "code",
   "execution_count": null,
   "id": "5d4eea64-63fb-4502-acbd-664f3c9f0868",
   "metadata": {},
   "outputs": [],
   "source": [
    "df_compare['diff'] = df_compare.apply(lambda x: x['num_ids'] - x['num_ids_in_match_group'], axis=1)\n",
    "df_compare"
   ]
  },
  {
   "cell_type": "markdown",
   "id": "eac50cfb-56c8-4246-b933-69ce3eae3b03",
   "metadata": {},
   "source": [
    "## Precision & Recall\n",
    "- True positives (TP): Correctly declared duplicates\n",
    "- False positives (FP): Incorrectly declared duplicates\n",
    "- True negatives (TN): Correctly avoided pairs\n",
    "- False negatives (FN): Missed duplicates\n",
    "- Precision = TP / (TP + FP)\n",
    "- Recall = TP / (TP + FN)"
   ]
  },
  {
   "cell_type": "markdown",
   "id": "2b69b90e-8d44-4f64-93bb-938be3843e04",
   "metadata": {},
   "source": [
    "## Calculate Classification Stats\n",
    "This is really a binary classification problem, where the classes are simply \"Match\" and \"Unmatched\". First we'll calculate the TP, FP, FN and TN. That will form our confusion matrix which we can then show. And after that we can calculate the precision, recall and F1-score."
   ]
  },
  {
   "cell_type": "code",
   "execution_count": null,
   "id": "f7084fd2-9ae7-4c51-ae7a-798af865ef9b",
   "metadata": {},
   "outputs": [],
   "source": [
    "df_tp = df_compare[df_compare['diff'] == 0].aggregate({'num_ids_in_match_group': 'sum'}).reset_index()\n",
    "TP = df_tp.iloc[0, 1]\n",
    "print(f'TP={TP:,}')"
   ]
  },
  {
   "cell_type": "code",
   "execution_count": null,
   "id": "9eb467a3-9873-4e75-afe7-728bdb12016e",
   "metadata": {},
   "outputs": [],
   "source": [
    "df_fp = df_compare[df_compare['diff'] != 0].aggregate({'num_ids': 'sum'}).reset_index()\n",
    "FP = df_fp.iloc[0, 1]\n",
    "print(f'FP={FP:,}')"
   ]
  },
  {
   "cell_type": "code",
   "execution_count": null,
   "id": "99d78385-5c20-45ce-8a86-392a598c4673",
   "metadata": {},
   "outputs": [],
   "source": [
    "FN = tot_possible_dups - (TP+FP)\n",
    "print(f'FN={FN:,}')"
   ]
  },
  {
   "cell_type": "code",
   "execution_count": null,
   "id": "cd6a68dc-3b99-4fe8-888e-828fe6eb8aef",
   "metadata": {},
   "outputs": [],
   "source": [
    "TN = tot_possible_non_dups\n",
    "print(f'TN={TN:,}')"
   ]
  },
  {
   "cell_type": "code",
   "execution_count": null,
   "id": "3d7531ef-070a-401e-95cb-34d3183d286a",
   "metadata": {},
   "outputs": [],
   "source": [
    "cf_matrix = np.array([[TN, FP], [FN, TP]])"
   ]
  },
  {
   "cell_type": "code",
   "execution_count": null,
   "id": "3bb09695-64ae-4fe4-a429-a200ad696e41",
   "metadata": {},
   "outputs": [],
   "source": [
    "group_names = ['TN', 'FP', 'FN', 'TP']\n",
    "group_counts = [f'{value:,}' for value in cf_matrix.flatten()]\n",
    "group_percentages = [f'{value:.2%}' for value in cf_matrix.flatten()/np.sum(cf_matrix)]\n",
    "labels = [f'{v1}\\n{v2}\\n{v3}' for v1, v2, v3 in zip(group_names,group_counts,group_percentages)]\n",
    "labels = np.asarray(labels).reshape(2,2)\n",
    "ax = sns.heatmap(cf_matrix, annot=labels, fmt='', cmap='Blues', cbar_kws={'format': lambda x, _: f'{x:,.0f}'})\n",
    "plt.show()"
   ]
  },
  {
   "cell_type": "code",
   "execution_count": null,
   "id": "cf6786f4-7d1a-4af3-b06d-64bb2f406b94",
   "metadata": {},
   "outputs": [],
   "source": [
    "precision = TP/(TP+FP)\n",
    "print(f'Precision: {precision:.2f}')"
   ]
  },
  {
   "cell_type": "code",
   "execution_count": null,
   "id": "192e80b6-7e63-4532-8830-c73bc9994a1d",
   "metadata": {},
   "outputs": [],
   "source": [
    "recall = TP/(TP+FN)\n",
    "print(f'Recall: {recall:.2f}')"
   ]
  },
  {
   "cell_type": "code",
   "execution_count": null,
   "id": "a3b85da4-9913-46b2-b13e-a61e1baaf994",
   "metadata": {},
   "outputs": [],
   "source": [
    "f_score = (precision * recall) / (precision + recall) * 2\n",
    "print(f'F-Score: {f_score:.2f}')"
   ]
  },
  {
   "cell_type": "code",
   "execution_count": null,
   "id": "c66b945d-121d-4a2a-b173-5ec4b77d9c86",
   "metadata": {},
   "outputs": [],
   "source": []
  }
 ],
 "metadata": {
  "kernelspec": {
   "display_name": "Python 3 (ipykernel)",
   "language": "python",
   "name": "python3"
  },
  "language_info": {
   "codemirror_mode": {
    "name": "ipython",
    "version": 3
   },
   "file_extension": ".py",
   "mimetype": "text/x-python",
   "name": "python",
   "nbconvert_exporter": "python",
   "pygments_lexer": "ipython3",
   "version": "3.10.14"
  }
 },
 "nbformat": 4,
 "nbformat_minor": 5
}
