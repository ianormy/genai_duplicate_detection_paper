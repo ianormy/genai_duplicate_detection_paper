{
 "cells": [
  {
   "cell_type": "code",
   "execution_count": null,
   "id": "d2b3707b-fca1-46ee-aa7c-a06d065438e9",
   "metadata": {},
   "outputs": [],
   "source": [
    "import pandas as pd\n",
    "import os\n",
    "import numpy as np\n",
    "import umap\n",
    "import ast\n",
    "from typing import Dict, List, Any, Tuple\n",
    "from tqdm import tqdm\n",
    "import plotly.express as px\n",
    "import matplotlib.pyplot as plt\n",
    "import faiss\n",
    "import random"
   ]
  },
  {
   "cell_type": "code",
   "execution_count": null,
   "id": "4bec563e-670b-4b11-badc-3c0208e3684b",
   "metadata": {},
   "outputs": [],
   "source": [
    "data_folder = 'C:/Data/Musicbrainz'"
   ]
  },
  {
   "cell_type": "code",
   "execution_count": null,
   "id": "12de97b9-a54a-4b85-99f0-768b1f086fce",
   "metadata": {},
   "outputs": [],
   "source": [
    "match_sentence_cols = ['artist', 'title', 'album', 'year', 'language']"
   ]
  },
  {
   "cell_type": "code",
   "execution_count": null,
   "id": "bf9408e2-6208-437b-9b33-986c19172593",
   "metadata": {},
   "outputs": [],
   "source": [
    "df = pd.read_csv(os.path.join(data_folder, 'musicbrainz_200k_with_embeddings.csv'))\n",
    "df.drop(columns=[\"Unnamed: 0\"], inplace=True)\n",
    "df"
   ]
  },
  {
   "cell_type": "code",
   "execution_count": null,
   "id": "e378584c-13f2-4133-b89a-847de0277c13",
   "metadata": {},
   "outputs": [],
   "source": [
    "df = df.astype({\n",
    "    'TID': 'Int64',\n",
    "    'CID': 'Int64',\n",
    "    'CTID': 'Int32'\n",
    "})"
   ]
  },
  {
   "cell_type": "code",
   "execution_count": null,
   "id": "3095b144-e0d8-4195-97c4-7cf3e69525ce",
   "metadata": {},
   "outputs": [],
   "source": [
    "for col in match_sentence_cols:\n",
    "    df = df.astype({col: 'str'})\n",
    "    df[col]  = df[col].apply(lambda x : '' if x == 'nan' else x)\n",
    "df.head()"
   ]
  },
  {
   "cell_type": "code",
   "execution_count": null,
   "id": "9e6884a8-0a59-4da3-b86d-716f809b1d99",
   "metadata": {},
   "outputs": [],
   "source": [
    "df['embedding'] = df['embedding_vector'].apply(lambda x: ast.literal_eval(x))"
   ]
  },
  {
   "cell_type": "code",
   "execution_count": null,
   "id": "60c74b2c-3240-44f9-8b39-975cde242235",
   "metadata": {},
   "outputs": [],
   "source": [
    "embeddings = np.stack(df[\"embedding\"].to_numpy())"
   ]
  },
  {
   "cell_type": "code",
   "execution_count": null,
   "id": "af53d554-c078-4253-aaa2-bbb5517efda4",
   "metadata": {},
   "outputs": [],
   "source": [
    "embeddings.shape"
   ]
  },
  {
   "cell_type": "code",
   "execution_count": null,
   "id": "4f40ffbe-bea4-4dc2-907f-872811be7066",
   "metadata": {},
   "outputs": [],
   "source": [
    "orig_embeddings = embeddings.copy()"
   ]
  },
  {
   "cell_type": "code",
   "execution_count": null,
   "id": "a079b983-d76f-4e91-9613-9ce3c0c3ab9e",
   "metadata": {},
   "outputs": [],
   "source": [
    "def create_cosine_similarity_index(db_vectors, db_ids, dims=768):\n",
    "    \"\"\"Create a cosine similarity index using Faiss \n",
    "\n",
    "    :param db_vectors: vectors. Will get normalized\n",
    "    :param db_ids: list of IDs that correspond to the vectors\n",
    "    :param dims: dimensions of the vectors\n",
    "    \"\"\"\n",
    "    index = faiss.IndexFlatIP(dims)  # inner product\n",
    "    index = faiss.IndexIDMap(index)\n",
    "    faiss.normalize_L2(db_vectors)  # normalize the vectors before we add them\n",
    "    index.add_with_ids(db_vectors, db_ids)\n",
    "    return index"
   ]
  },
  {
   "cell_type": "markdown",
   "id": "238aefb1-0109-495d-81de-892e5890d0b8",
   "metadata": {},
   "source": [
    "## Create Faiss Index\n",
    "To create our Faiss index we need our embedding vectors to be 32-bit floating point values and we also need a corresponding list of IDs as 64-bit integer values."
   ]
  },
  {
   "cell_type": "code",
   "execution_count": null,
   "id": "23c3d408-74a0-4a36-9638-8258fea7004e",
   "metadata": {},
   "outputs": [],
   "source": [
    "db_vectors = embeddings.copy().astype(np.float32)"
   ]
  },
  {
   "cell_type": "code",
   "execution_count": null,
   "id": "74534cc1-f4ab-4b74-a5fa-91c45ac13158",
   "metadata": {},
   "outputs": [],
   "source": [
    "db_ids = df['TID'].values.astype(np.int64)"
   ]
  },
  {
   "cell_type": "code",
   "execution_count": null,
   "id": "ae765d99-3e8e-472b-95db-1fb620c09624",
   "metadata": {},
   "outputs": [],
   "source": [
    "index = create_cosine_similarity_index(db_vectors, db_ids)"
   ]
  },
  {
   "cell_type": "code",
   "execution_count": null,
   "id": "f2c7ccc3-7f79-4112-8fcc-852c5ad6f004",
   "metadata": {},
   "outputs": [],
   "source": [
    "print(f'Total records in index: {index.ntotal:,}')"
   ]
  },
  {
   "cell_type": "code",
   "execution_count": null,
   "id": "08e59145-42b1-416c-ad52-2586a6034894",
   "metadata": {},
   "outputs": [],
   "source": [
    "reverse_lookup = {v: k for k, v in enumerate(db_ids)}"
   ]
  },
  {
   "cell_type": "code",
   "execution_count": null,
   "id": "4f38667b-da03-422e-9ac8-1175113a9d02",
   "metadata": {},
   "outputs": [],
   "source": [
    "def fetch_nearest_neighbour(index_num: int) -> pd.DataFrame:\n",
    "    \"\"\"Fetch the nearest neigbour\n",
    "    \n",
    "    :param index_num: the index to use to fetch the ID and embedding vector\n",
    "    :returns: a pandas DataFrame containing the nearest IDs and the distances\n",
    "    \"\"\"\n",
    "    match_ids = []\n",
    "    match_distances = []\n",
    "    query_id = db_ids[index_num]\n",
    "    query_vector = db_vectors[index_num,:].reshape([1, 768])\n",
    "    similarities, similarity_ids = index.search(query_vector, 2)\n",
    "    for i in range(1, similarity_ids.shape[1]):\n",
    "        similarity_id = similarity_ids[0][i]\n",
    "        similarity = 1 - similarities[0][i]\n",
    "        match_ids.append(similarity_id)\n",
    "        match_distances.append(similarity)\n",
    "        #print(f'{query_id}->{similarity_id} cosine sim: {similarity}', flush=True)\n",
    "    match_df = pd.DataFrame({'TID': match_ids, 'distance': match_distances})\n",
    "    return match_df"
   ]
  },
  {
   "cell_type": "code",
   "execution_count": null,
   "id": "64224e18-508d-4cdc-ad3a-5cf5df1a4a60",
   "metadata": {},
   "outputs": [],
   "source": [
    "df_match = fetch_nearest_neighbour(index_num=0)\n",
    "df_match"
   ]
  },
  {
   "cell_type": "code",
   "execution_count": null,
   "id": "5c1d9855-26a9-47bb-b7f0-49299dd6cc19",
   "metadata": {},
   "outputs": [],
   "source": [
    "tids = []\n",
    "nearest_tids = []\n",
    "distances = []\n",
    "chunk_size = 5000 # 5K\n",
    "ids_visited = {}\n",
    "total_recs = len(df)\n",
    "progress_bar = tqdm(range(total_recs),\n",
    "                    file=open(os.devnull, 'w'),\n",
    "                    desc=\"nearest neighbours progress\")\n",
    "ids = range(len(df))\n",
    "ids_all = set(ids)\n",
    "ids_left = set(ids)\n",
    "max_chunk = 0\n",
    "last_progress = 0\n",
    "matches_found = []\n",
    "while len(ids_left) > 0:\n",
    "    i_random = random.choice(list(ids_left))\n",
    "    ids_visited[i_random] = True\n",
    "    matches_df = fetch_nearest_neighbour(index_num=i_random)\n",
    "    matches_found.append((db_ids[i_random], matches_df['TID'].iloc[0], matches_df['distance'].iloc[0]))\n",
    "    ids_left = ids_all.difference(set(ids_visited.keys()))\n",
    "    so_far = total_recs - len(ids_left)\n",
    "    this_update = so_far - last_progress\n",
    "    progress_bar.update(this_update)\n",
    "    if so_far // chunk_size > max_chunk:\n",
    "        print(str(progress_bar))\n",
    "        max_chunk = so_far // chunk_size\n",
    "    last_progress = so_far\n",
    "# print the final progress chunk\n",
    "this_update = total_recs - last_progress\n",
    "progress_bar.update(this_update)\n",
    "print(str(progress_bar))"
   ]
  },
  {
   "cell_type": "code",
   "execution_count": null,
   "id": "ca5f26bd-8269-4a43-a827-fca64ce18d31",
   "metadata": {},
   "outputs": [],
   "source": [
    "df_nearest_neighbour = pd.DataFrame(matches_found, columns=['TID', 'nearest_tid', 'distance'])\n",
    "df_nearest_neighbour"
   ]
  },
  {
   "cell_type": "markdown",
   "id": "10fb78f2-313c-402d-9e74-16546e5303c2",
   "metadata": {},
   "source": [
    "## 2D UMAP Embeddings\n",
    "Let's reduce the 768 embedding vector to a 2D vector space using UMAP."
   ]
  },
  {
   "cell_type": "code",
   "execution_count": null,
   "id": "9a4210a3-adec-4674-b5df-82f2a9b203a1",
   "metadata": {},
   "outputs": [],
   "source": [
    "umap_2d = umap.UMAP(n_components=2)\n",
    "proj_2d = umap_2d.fit_transform(embeddings)"
   ]
  },
  {
   "cell_type": "code",
   "execution_count": null,
   "id": "686b990f-fc80-47ca-9768-d77a55d0fce6",
   "metadata": {},
   "outputs": [],
   "source": [
    "df_nearest_neighbour[\"embedding_reduced_2d\"] = np.array(proj_2d).tolist()"
   ]
  },
  {
   "cell_type": "code",
   "execution_count": null,
   "id": "8fbb0fbc-5a13-4a5b-9cc3-c5351ed70f83",
   "metadata": {},
   "outputs": [],
   "source": [
    "df_nearest_neighbour[\"emb_2d_x\"] = [emb[0] for emb in df_nearest_neighbour[\"embedding_reduced_2d\"]]\n",
    "df_nearest_neighbour[\"emb_2d_y\"] = [emb[1] for emb in df_nearest_neighbour[\"embedding_reduced_2d\"]]"
   ]
  },
  {
   "cell_type": "markdown",
   "id": "bb2deb75-c8d9-4ceb-937e-79173ed184a4",
   "metadata": {},
   "source": [
    "## 3D UMAP Embeddings\n",
    "Let's reduce the 768 embedding vector to a 3D vector space using UMAP."
   ]
  },
  {
   "cell_type": "code",
   "execution_count": null,
   "id": "9cc31085-45b2-46b1-af0c-d142fc24dad5",
   "metadata": {},
   "outputs": [],
   "source": [
    "umap_3d = umap.UMAP(n_components=3)\n",
    "proj_3d = umap_3d.fit_transform(embeddings)"
   ]
  },
  {
   "cell_type": "code",
   "execution_count": null,
   "id": "abb9f8a5-af5f-4158-ad40-f6bbb5b9ccd9",
   "metadata": {},
   "outputs": [],
   "source": [
    "df_nearest_neighbour[\"embedding_reduced_3d\"] = np.array(proj_3d).tolist()"
   ]
  },
  {
   "cell_type": "code",
   "execution_count": null,
   "id": "4f603f6c-8b34-4d59-82bb-79e6673f815c",
   "metadata": {},
   "outputs": [],
   "source": [
    "df_nearest_neighbour[\"emb_3d_x\"] = [emb[0] for emb in df_nearest_neighbour[\"embedding_reduced_3d\"]]\n",
    "df_nearest_neighbour[\"emb_3d_y\"] = [emb[1] for emb in df_nearest_neighbour[\"embedding_reduced_3d\"]]\n",
    "df_nearest_neighbour[\"emb_3d_z\"] = [emb[2] for emb in df_nearest_neighbour[\"embedding_reduced_3d\"]]"
   ]
  },
  {
   "cell_type": "markdown",
   "id": "71315677-dd09-4c60-a14a-0103a6c10337",
   "metadata": {},
   "source": [
    "## Join with original records\n",
    "We need to join with the original records in order to show the record details when we hover the mouse over a point."
   ]
  },
  {
   "cell_type": "code",
   "execution_count": null,
   "id": "a22b925c-4978-44e1-b149-bfb4caef5a25",
   "metadata": {},
   "outputs": [],
   "source": [
    "df_nearest_neighbour.drop(columns=[\"embedding_reduced_2d\", \"embedding_reduced_3d\"], inplace=True)"
   ]
  },
  {
   "cell_type": "code",
   "execution_count": null,
   "id": "41a9fb6c-c0db-480d-bf68-72d5c1eb9043",
   "metadata": {},
   "outputs": [],
   "source": [
    "df.drop(columns=[\"embedding_vector\", \"CID\", \"CTID\", \"SourceID\", \"id\", \"number\"], inplace=True)"
   ]
  },
  {
   "cell_type": "code",
   "execution_count": null,
   "id": "e797c02c-7423-4270-890b-969718cde50d",
   "metadata": {},
   "outputs": [],
   "source": [
    "df = df.set_index(['TID'])"
   ]
  },
  {
   "cell_type": "code",
   "execution_count": null,
   "id": "46d32131-a6dd-44fc-bec4-cca21d5ed540",
   "metadata": {},
   "outputs": [],
   "source": [
    "df = df.join(df_nearest_neighbour.set_index(['TID']))"
   ]
  },
  {
   "cell_type": "code",
   "execution_count": null,
   "id": "121a84b3-085b-49a1-9e17-66fb38b96af8",
   "metadata": {},
   "outputs": [],
   "source": [
    "df = df.reset_index(names=['TID'])\n",
    "df.head()"
   ]
  },
  {
   "cell_type": "markdown",
   "id": "5f2a4a43-adc8-49fd-b0cd-bd114c26070f",
   "metadata": {},
   "source": [
    "## Save the 2D & 3D mappings\n",
    "It's taken a lot of time to get here, so save the data together with the 2D and 3D mappings. That way we can simply jump to the following step and load the data if we ever want to see the 2D and 3D maps at a later point."
   ]
  },
  {
   "cell_type": "code",
   "execution_count": null,
   "id": "9e2bf06d-54a5-4873-ad53-fb81b67b84ba",
   "metadata": {},
   "outputs": [],
   "source": [
    "df.to_csv(os.path.join(data_folder, 'musicbrainz_200k_full_with_embeddings_2d_and_3d_distance.csv'))"
   ]
  },
  {
   "cell_type": "markdown",
   "id": "ab501e07-462e-4247-a03a-ae3fd04a86f1",
   "metadata": {},
   "source": [
    "# Load Embeddings with 2D & 3D mappings\n",
    "To save a lot of time, load the data containing the 2D and 3D mappings."
   ]
  },
  {
   "cell_type": "code",
   "execution_count": null,
   "id": "5914a30e-4fca-4870-a2aa-46fc25a545cb",
   "metadata": {},
   "outputs": [],
   "source": [
    "df = pd.read_csv(os.path.join(data_folder, 'musicbrainz_200k_full_with_embeddings_2d_and_3d_distance.csv'))"
   ]
  },
  {
   "cell_type": "code",
   "execution_count": null,
   "id": "1d14fd97-bdef-4f52-aa33-ff9687f64078",
   "metadata": {},
   "outputs": [],
   "source": [
    "for col in match_sentence_cols:\n",
    "    df = df.astype({col: 'str'})\n",
    "for col in match_sentence_cols:\n",
    "    df[col]  = df[col].apply(lambda x : '' if x == 'nan' else x)\n",
    "df.drop(columns=[\"Unnamed: 0.1\", \"Unnamed: 0\"], inplace=True)\n",
    "df.head()"
   ]
  },
  {
   "cell_type": "markdown",
   "id": "1ee8c041-50ca-47c6-84c8-bf15f86f6e83",
   "metadata": {},
   "source": [
    "## 2D UMAP Embeddings\n",
    "Let's reduce the 768 embedding vector to a 2D vector space using UMAP."
   ]
  },
  {
   "cell_type": "code",
   "execution_count": null,
   "id": "3e3aed40-eb5d-4260-9043-36c5a9fc9dd5",
   "metadata": {},
   "outputs": [],
   "source": [
    "fig_2d = px.scatter(\n",
    "    df,\n",
    "    x='emb_2d_x',\n",
    "    y='emb_2d_y',\n",
    "    color=df['distance'],\n",
    "    hover_data=match_sentence_cols+['TID'],\n",
    "    width=1600, height=1200\n",
    ")\n",
    "fig_2d.show()"
   ]
  },
  {
   "cell_type": "code",
   "execution_count": null,
   "id": "6d5f80c0-eb09-4145-bcaf-fd13f540d493",
   "metadata": {},
   "outputs": [],
   "source": [
    "fig_2d.write_image('2d_umap_200k.png')"
   ]
  },
  {
   "cell_type": "markdown",
   "id": "e7f427f1-272e-492b-a821-1315ecbe2d96",
   "metadata": {},
   "source": [
    "## 3D UMAP Embeddings\n",
    "Let's reduce the 768 embedding vector to a 3D vector space using UMAP."
   ]
  },
  {
   "cell_type": "code",
   "execution_count": null,
   "id": "18e7bc26-43c3-4740-ac8a-fc2021a42037",
   "metadata": {},
   "outputs": [],
   "source": [
    "fig_3d = px.scatter_3d(\n",
    "    df, \n",
    "    x='emb_3d_x', \n",
    "    y='emb_3d_y', \n",
    "    z='emb_3d_z',\n",
    "    color=df['distance'],\n",
    "    hover_data=match_sentence_cols+['TID'],\n",
    "    width=1600, height=1200\n",
    ")\n",
    "fig_3d.update_traces(marker_size=5)\n",
    "fig_3d.show()"
   ]
  },
  {
   "cell_type": "code",
   "execution_count": null,
   "id": "8a4d9a79-d06d-4c74-91f0-58ec928c6993",
   "metadata": {},
   "outputs": [],
   "source": []
  }
 ],
 "metadata": {
  "kernelspec": {
   "display_name": "Python 3 (ipykernel)",
   "language": "python",
   "name": "python3"
  },
  "language_info": {
   "codemirror_mode": {
    "name": "ipython",
    "version": 3
   },
   "file_extension": ".py",
   "mimetype": "text/x-python",
   "name": "python",
   "nbconvert_exporter": "python",
   "pygments_lexer": "ipython3",
   "version": "3.10.14"
  }
 },
 "nbformat": 4,
 "nbformat_minor": 5
}
