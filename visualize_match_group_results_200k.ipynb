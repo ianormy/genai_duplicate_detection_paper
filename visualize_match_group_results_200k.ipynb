{
 "cells": [
  {
   "cell_type": "code",
   "execution_count": null,
   "id": "04640f3f",
   "metadata": {
    "pycharm": {
     "name": "#%%\n"
    }
   },
   "outputs": [],
   "source": [
    "from IPython.display import display, HTML\n",
    "display(HTML(\"<style>.container { width:100% !important; }</style>\"))"
   ]
  },
  {
   "cell_type": "code",
   "execution_count": null,
   "id": "9d737d56",
   "metadata": {
    "pycharm": {
     "name": "#%%\n"
    }
   },
   "outputs": [],
   "source": [
    "import pandas as pd\n",
    "import matplotlib.pyplot as plt\n",
    "import numpy as np\n",
    "from typing import Tuple, Any, Dict\n",
    "import os"
   ]
  },
  {
   "cell_type": "markdown",
   "id": "32d98a3a",
   "metadata": {
    "pycharm": {
     "name": "#%% md\n"
    }
   },
   "source": [
    "## Visualise The Match Groups\n",
    "Let's load up the match groups and then colour them so we can see easily how they differ."
   ]
  },
  {
   "cell_type": "code",
   "execution_count": null,
   "id": "349a0a69-c217-4ce3-8e53-a95f13d0491e",
   "metadata": {
    "pycharm": {
     "name": "#%%\n"
    }
   },
   "outputs": [],
   "source": [
    "results_folder = 'results'\n",
    "match_groups_df = pd.read_csv(os.path.join(results_folder, 'match_groups_200k_epsilon_0_245_.csv'))\n",
    "match_groups_df.head(10)"
   ]
  },
  {
   "cell_type": "code",
   "execution_count": null,
   "id": "97dc475f-e96d-48a3-b324-b1047740c393",
   "metadata": {},
   "outputs": [],
   "source": [
    "match_groups_df = match_groups_df.set_index(['TID'])"
   ]
  },
  {
   "cell_type": "markdown",
   "id": "79b6f023-c358-4b49-983b-38222e1fec44",
   "metadata": {},
   "source": [
    "Let's load up the original data so we can then join them with our match groups and see what the full records look like."
   ]
  },
  {
   "cell_type": "code",
   "execution_count": null,
   "id": "aae244d3-2cba-4c22-9fc7-1496a25ff371",
   "metadata": {},
   "outputs": [],
   "source": [
    "data_folder = 'C:/Data/Musicbrainz'\n",
    "df = pd.read_csv(os.path.join(data_folder, 'musicbrainz-200-A01.csv'))\n",
    "df = df.drop(['id', 'SourceID','number'], axis=1)\n",
    "df"
   ]
  },
  {
   "cell_type": "code",
   "execution_count": null,
   "id": "a91319d0-6486-4649-9279-5b893610dca1",
   "metadata": {},
   "outputs": [],
   "source": [
    "df = df.astype({\n",
    "    'TID': 'Int64',\n",
    "    'CID': 'Int64',\n",
    "    'CTID': 'Int32'})"
   ]
  },
  {
   "cell_type": "code",
   "execution_count": null,
   "id": "081c0ab5-f328-44a7-9da1-492055235fc6",
   "metadata": {},
   "outputs": [],
   "source": [
    "match_cols = ['title', 'length', 'artist', 'album', 'year', 'language']  # the attributes we used to create our \"Match Sentence\"\n",
    "for col in match_cols:\n",
    "    df = df.astype({col: 'str'})\n",
    "    df[col]  = df[col].apply(lambda x : '' if x == 'nan' else x)\n",
    "df.head()"
   ]
  },
  {
   "cell_type": "markdown",
   "id": "4ed23258-a6e6-404a-b3b6-9a910bc3abde",
   "metadata": {},
   "source": [
    "## Join the Data with the Results\n",
    "Join the data with the results so we can see all the fields"
   ]
  },
  {
   "cell_type": "code",
   "execution_count": null,
   "id": "0c29ab20-bd08-41fb-94f5-b6852425a74d",
   "metadata": {},
   "outputs": [],
   "source": [
    "df_indexed = df.set_index('TID')\n",
    "match_groups_all_df = match_groups_df.join(df_indexed, on='TID', how='left', lsuffix='_l', rsuffix='_r')\n",
    "match_groups_all_df.head(10)"
   ]
  },
  {
   "cell_type": "code",
   "execution_count": null,
   "id": "0a3cc2c0-dc63-40f2-9783-7889c57a823d",
   "metadata": {},
   "outputs": [],
   "source": [
    "match_groups_all_df = match_groups_all_df.reset_index(names='TID')\n",
    "match_groups_all_df.head(10)"
   ]
  },
  {
   "cell_type": "code",
   "execution_count": null,
   "id": "7aedf702-5a78-4375-b697-59e027af5081",
   "metadata": {},
   "outputs": [],
   "source": [
    "match_groups_all_df = match_groups_all_df.drop(['CID', 'CTID'], axis=1)\n",
    "match_groups_all_df.head(10)"
   ]
  },
  {
   "cell_type": "code",
   "execution_count": null,
   "id": "16cf2f95",
   "metadata": {
    "pycharm": {
     "name": "#%%\n"
    }
   },
   "outputs": [],
   "source": [
    "match_groups_all_df[\"hash\"] = match_groups_all_df['match_group_id'].apply(lambda x: hash(x))\n",
    "match_groups_all_df"
   ]
  },
  {
   "cell_type": "code",
   "execution_count": null,
   "id": "38d2192f",
   "metadata": {
    "pycharm": {
     "name": "#%%\n"
    }
   },
   "outputs": [],
   "source": [
    "sel_cols = ['TID', 'title', 'length', 'artist', 'album', 'year', 'language', 'hash' ]\n",
    "match_groups_all_df = match_groups_all_df[sel_cols]"
   ]
  },
  {
   "cell_type": "markdown",
   "id": "b708894f-257b-4411-ad7c-7f2d687f7661",
   "metadata": {},
   "source": [
    "## Visualise Top 200 Records\n",
    "Since there's 200K records to look at, trying to do that will make visualisation difficult and slow. So we'll simply select the top 200 records and show those match groups. That will be more than enough to give us an idea of what the match groups look like. We colour each of the rows by their match groups. I use pastel colours as they are quite easy on the eyes :-)"
   ]
  },
  {
   "cell_type": "code",
   "execution_count": null,
   "id": "f59d80c2-2cf2-4567-a951-8a46bf97688e",
   "metadata": {},
   "outputs": [],
   "source": [
    "df_show_sel = match_groups_all_df.head(200)  # only show the top 200 records"
   ]
  },
  {
   "cell_type": "code",
   "execution_count": null,
   "id": "c7e25076",
   "metadata": {
    "pycharm": {
     "name": "#%%\n"
    }
   },
   "outputs": [],
   "source": [
    "pastel_color_table = [\n",
    "    \"#FFB5E8\",\n",
    "    \"#ECD4FF\",\n",
    "    \"#85E3FF\", \n",
    "    \"#BFFCC6\", \n",
    "    \"#FFF5BA\",\n",
    "    \"#FFCBC1\",\n",
    "    \"#C4FAF8\"\n",
    "]\n",
    "num_colors = len(pastel_color_table)\n",
    "unique_hashes = df_show_sel[\"hash\"].unique()\n",
    "num_unique_hashes = len(unique_hashes)\n",
    "colors = [pastel_color_table[i % num_colors] for i in range(num_unique_hashes)]"
   ]
  },
  {
   "cell_type": "code",
   "execution_count": null,
   "id": "23ef8ba3",
   "metadata": {
    "pycharm": {
     "name": "#%%\n"
    }
   },
   "outputs": [],
   "source": [
    "color_mapping = {}\n",
    "for value in unique_hashes:\n",
    "    color = colors.pop(0)\n",
    "    if value not in color_mapping:\n",
    "        color_mapping[value] = color"
   ]
  },
  {
   "cell_type": "code",
   "execution_count": null,
   "id": "5ffa9f6e",
   "metadata": {
    "pycharm": {
     "name": "#%%\n"
    }
   },
   "outputs": [],
   "source": [
    "# Color rows\n",
    "df_show_sel.style.apply(\n",
    "    lambda v: [f\"background-color: {color_mapping.get(v['hash'], '')}\"] * df_show_sel.shape[1],\n",
    "    axis=1,\n",
    "#)\n",
    ").hide(['TID', 'hash'], axis=1)"
   ]
  },
  {
   "cell_type": "code",
   "execution_count": null,
   "id": "c073622b",
   "metadata": {
    "pycharm": {
     "name": "#%%\n"
    }
   },
   "outputs": [],
   "source": []
  }
 ],
 "metadata": {
  "kernelspec": {
   "display_name": "Python 3 (ipykernel)",
   "language": "python",
   "name": "python3"
  },
  "language_info": {
   "codemirror_mode": {
    "name": "ipython",
    "version": 3
   },
   "file_extension": ".py",
   "mimetype": "text/x-python",
   "name": "python",
   "nbconvert_exporter": "python",
   "pygments_lexer": "ipython3",
   "version": "3.10.14"
  }
 },
 "nbformat": 4,
 "nbformat_minor": 5
}
